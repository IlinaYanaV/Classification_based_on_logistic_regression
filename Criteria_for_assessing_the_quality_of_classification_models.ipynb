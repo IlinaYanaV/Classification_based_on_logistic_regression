{
  "nbformat": 4,
  "nbformat_minor": 0,
  "metadata": {
    "colab": {
      "provenance": []
    },
    "kernelspec": {
      "name": "python3",
      "display_name": "Python 3"
    },
    "language_info": {
      "name": "python"
    }
  },
  "cells": [
    {
      "cell_type": "markdown",
      "source": [
        "Истинное значение:"
      ],
      "metadata": {
        "id": "_2TevfP9YWDI"
      }
    },
    {
      "cell_type": "code",
      "source": [
        "y_true = [1, 1, 0, 1, 0, 1, 1, 1, 0, 1]\n"
      ],
      "metadata": {
        "id": "t4PRvL8kXyIf"
      },
      "execution_count": null,
      "outputs": []
    },
    {
      "cell_type": "markdown",
      "source": [
        "Предсказание модели:"
      ],
      "metadata": {
        "id": "gcHRzEwpYZZS"
      }
    },
    {
      "cell_type": "code",
      "source": [
        "y_pred = [1, 0, 1, 1, 0, 0, 1, 0, 0, 0]\n"
      ],
      "metadata": {
        "id": "4FRa9Gu7YGOJ"
      },
      "execution_count": null,
      "outputs": []
    },
    {
      "cell_type": "markdown",
      "source": [
        "1. Рассчитайте показатель «Доля правильных ответов» (Accuracy)"
      ],
      "metadata": {
        "id": "6MbjJmYZYyp1"
      }
    },
    {
      "cell_type": "code",
      "source": [
        "from sklearn.metrics import accuracy_score\n",
        "print(accuracy_score(y_true, y_pred))"
      ],
      "metadata": {
        "colab": {
          "base_uri": "https://localhost:8080/"
        },
        "id": "-yfmJuYrYzOE",
        "outputId": "20250b52-f217-4017-c8c5-85fc52b9bc7d"
      },
      "execution_count": null,
      "outputs": [
        {
          "output_type": "stream",
          "name": "stdout",
          "text": [
            "0.5\n"
          ]
        }
      ]
    },
    {
      "cell_type": "markdown",
      "source": [
        "Метрика показывает что правильных ответов 50 %."
      ],
      "metadata": {
        "id": "WARAobC4buSJ"
      }
    },
    {
      "cell_type": "markdown",
      "source": [
        "Проверяем хорошо работает модель или нет, заменяем все наши прогнозы на 0.\n",
        "Метрика изменилась на 20 %."
      ],
      "metadata": {
        "id": "mzkE99HocVUz"
      }
    },
    {
      "cell_type": "code",
      "source": [
        "import numpy as np\n",
        "print(accuracy_score(y_true, np.zeros_like(y_true)))"
      ],
      "metadata": {
        "colab": {
          "base_uri": "https://localhost:8080/"
        },
        "id": "1kgyO31tb9_p",
        "outputId": "cfec0e26-c5ff-4891-adcb-f3ea55cb8d85"
      },
      "execution_count": null,
      "outputs": [
        {
          "output_type": "stream",
          "name": "stdout",
          "text": [
            "0.3\n"
          ]
        }
      ]
    },
    {
      "cell_type": "markdown",
      "source": [
        "2. Рассчитайте показатель «Точность» (Precision)"
      ],
      "metadata": {
        "id": "j41iqSzhY039"
      }
    },
    {
      "cell_type": "code",
      "source": [
        "from sklearn.metrics import precision_score\n",
        "print(precision_score(y_true, y_pred))"
      ],
      "metadata": {
        "colab": {
          "base_uri": "https://localhost:8080/"
        },
        "id": "jUfmq0MmY1S2",
        "outputId": "691166a7-46d8-450f-b467-49db38ae4fae"
      },
      "execution_count": null,
      "outputs": [
        {
          "output_type": "stream",
          "name": "stdout",
          "text": [
            "0.75\n"
          ]
        }
      ]
    },
    {
      "cell_type": "markdown",
      "source": [
        "Точность данной модели 0.75, это значит, что в 75 случах из 100 срабатывание данной модели верно."
      ],
      "metadata": {
        "id": "M3L4_w6Hb3yK"
      }
    },
    {
      "cell_type": "markdown",
      "source": [
        "3. Рассчитайте показатель «Полнота» (Recall))"
      ],
      "metadata": {
        "id": "2hAs0-t3Y11N"
      }
    },
    {
      "cell_type": "code",
      "source": [
        "from sklearn.metrics import recall_score\n",
        "print(recall_score(y_true, y_pred))"
      ],
      "metadata": {
        "colab": {
          "base_uri": "https://localhost:8080/"
        },
        "id": "O7PZVJHoY4xF",
        "outputId": "2d9e6e6f-fd11-4bed-e187-5aefe1299b35"
      },
      "execution_count": null,
      "outputs": [
        {
          "output_type": "stream",
          "name": "stdout",
          "text": [
            "0.42857142857142855\n"
          ]
        }
      ]
    },
    {
      "cell_type": "markdown",
      "source": [
        "Показывает какое количество целевого класса выявленно. Наша модель позволяет выявить 42%."
      ],
      "metadata": {
        "id": "Yq2W41DXc-iy"
      }
    },
    {
      "cell_type": "markdown",
      "source": [
        "4. Рассчитайте показатель F1-score"
      ],
      "metadata": {
        "id": "UFgAGrJhY6vU"
      }
    },
    {
      "cell_type": "code",
      "source": [
        "print((2*precision_score(y_true, y_pred)*recall_score(y_true, y_pred))/(precision_score(y_true, y_pred)+recall_score(y_true, y_pred)))"
      ],
      "metadata": {
        "colab": {
          "base_uri": "https://localhost:8080/"
        },
        "id": "r61EO5NeY7aF",
        "outputId": "22bc94b4-51ad-478b-f3f5-6d92689cc454"
      },
      "execution_count": null,
      "outputs": [
        {
          "output_type": "stream",
          "name": "stdout",
          "text": [
            "0.5454545454545454\n"
          ]
        }
      ]
    },
    {
      "cell_type": "markdown",
      "source": [
        "F1-score дает среднюю оценку и с точки зрения точности и с точки зрения полноты. 54% - довольно низкий показатель."
      ],
      "metadata": {
        "id": "dow8BuL_fbT7"
      }
    },
    {
      "cell_type": "markdown",
      "source": [
        "5. Сделайте вывод о качестве модели и назовите наиболее важный критерий оценки модели для поставленной бизнес-задачи: снижение невозвратных кредитов."
      ],
      "metadata": {
        "id": "3BZHg6TGY7w1"
      }
    },
    {
      "cell_type": "markdown",
      "source": [
        "Вывод: качество модели не дотягивает до необходимого уровня. Наиболее важный критерий для оценки качества - F1-score, т.к. он дает оценку и с точки зрения точности и с точки зрения полноты."
      ],
      "metadata": {
        "id": "RQhEv7ladiGe"
      }
    }
  ]
}